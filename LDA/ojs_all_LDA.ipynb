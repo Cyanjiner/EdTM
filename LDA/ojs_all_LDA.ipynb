{
  "cells": [
    {
      "cell_type": "code",
      "execution_count": 3,
      "id": "3ecff21d",
      "metadata": {
        "id": "3ecff21d"
      },
      "outputs": [],
      "source": [
        "from sklearn.decomposition import LatentDirichletAllocation as LDA\n",
        "from sklearn.feature_extraction.text import CountVectorizer\n",
        "from nltk.tokenize import word_tokenize\n",
        "import numpy as np\n",
        "import time"
      ]
    },
    {
      "cell_type": "markdown",
      "id": "juf4GZNugM8d",
      "metadata": {
        "id": "juf4GZNugM8d"
      },
      "source": [
        "# New Section"
      ]
    },
    {
      "cell_type": "code",
      "execution_count": 5,
      "id": "f81ceae0",
      "metadata": {
        "id": "f81ceae0"
      },
      "outputs": [],
      "source": [
        "# remove punctuation\n",
        "with open(\"stops.txt\", \"r\") as infile:\n",
        "    stops = [line.strip() for line in infile.readlines()]\n",
        "stops.extend([\"i\", \"ii\", \"iii\", \"iv\", \"v\", \"vi\", \"vii\", \"viii\", \"ix\", \"x\"])"
      ]
    },
    {
      "cell_type": "code",
      "execution_count": 6,
      "id": "37ca718f",
      "metadata": {
        "id": "37ca718f"
      },
      "outputs": [],
      "source": [
        "vec = CountVectorizer(\n",
        "    # max_df --> words appear 70%\n",
        "    max_df=0.7, min_df=30, stop_words=stops)"
      ]
    },
    {
      "cell_type": "markdown",
      "id": "93c26aba",
      "metadata": {
        "id": "93c26aba"
      },
      "source": [
        "*********************"
      ]
    },
    {
      "cell_type": "code",
      "execution_count": 7,
      "id": "1cb6043c",
      "metadata": {
        "id": "1cb6043c"
      },
      "outputs": [],
      "source": [
        "with open(\"ojsEd_corpus.txt\", \"r\") as infile:\n",
        "    ojs = [line.lower().strip() for line in infile.readlines()]"
      ]
    },
    {
      "cell_type": "code",
      "execution_count": 8,
      "id": "7dd4cad6",
      "metadata": {
        "id": "7dd4cad6"
      },
      "outputs": [],
      "source": [
        "matrix_all = vec.fit_transform(ojs)"
      ]
    },
    {
      "cell_type": "code",
      "execution_count": 9,
      "id": "cdc84d96",
      "metadata": {
        "id": "cdc84d96"
      },
      "outputs": [],
      "source": [
        "def get_scores(data, min_epoch, max_epoch):\n",
        "    div_scores = [] # diversity scores\n",
        "    ppl_scores = [] # perplexity scores\n",
        "    models = []\n",
        "    time_elapseds = []\n",
        "    for epoch in range(min_epoch,max_epoch):\n",
        "        tock = time.time()\n",
        "        model = LDA(n_components=50, random_state=100, max_iter=epoch)\n",
        "        model.fit_transform(data)\n",
        "        compnorm = model.components_ / model.components_.sum(axis=1)[:, np.newaxis]\n",
        "        top_words = []\n",
        "        models.append(model)\n",
        "        print(f\"Epoch: {epoch}\")\n",
        "        for comp in compnorm:\n",
        "            word_idx = np.argsort(comp)[::-1][:25]\n",
        "            top_words.append(word_idx)\n",
        "        toparr = np.array(top_words, dtype=object)\n",
        "        n_unique = len(np.unique(toparr))\n",
        "        TD = n_unique / (25 * 50)\n",
        "        ppl = model.perplexity(data)\n",
        "        div_scores.append(TD)\n",
        "        ppl_scores.append(ppl)\n",
        "        print(f\"Topic diversity: {TD}\")\n",
        "        print(f\"Perplexity: {ppl}\")\n",
        "        tick = time.time()\n",
        "        print(f\"Time elapsed: {tick-tock}\")\n",
        "        print(\"\\n\")\n",
        "    return div_scores, ppl_scores, models, time_elapseds"
      ]
    },
    {
      "cell_type": "code",
      "execution_count": null,
      "id": "DJL0UbxWnJ2D",
      "metadata": {
        "colab": {
          "base_uri": "https://localhost:8080/"
        },
        "id": "DJL0UbxWnJ2D",
        "outputId": "3a4049c1-7528-46ad-db8b-50ae36816e45"
      },
      "outputs": [
        {
          "name": "stdout",
          "output_type": "stream",
          "text": [
            "Epoch: 1\n",
            "Topic diversity: 0.1088\n",
            "Perplexity: 1633.5203335205267\n",
            "Time elapsed: 45.544429063797\n",
            "\n",
            "\n",
            "Epoch: 2\n",
            "Topic diversity: 0.272\n",
            "Perplexity: 1078.4996700746979\n",
            "Time elapsed: 52.91321086883545\n",
            "\n",
            "\n",
            "Epoch: 3\n",
            "Topic diversity: 0.42\n",
            "Perplexity: 867.4943236276775\n",
            "Time elapsed: 56.5989625453949\n",
            "\n",
            "\n",
            "Epoch: 4\n",
            "Topic diversity: 0.5248\n",
            "Perplexity: 772.6301240833568\n",
            "Time elapsed: 62.65300107002258\n",
            "\n",
            "\n",
            "Epoch: 5\n",
            "Topic diversity: 0.5872\n",
            "Perplexity: 725.7736786268343\n",
            "Time elapsed: 69.77685284614563\n",
            "\n",
            "\n",
            "Epoch: 6\n",
            "Topic diversity: 0.6264\n",
            "Perplexity: 703.3946851339342\n",
            "Time elapsed: 75.50285458564758\n",
            "\n",
            "\n",
            "Epoch: 7\n",
            "Topic diversity: 0.6656\n",
            "Perplexity: 692.83005317195\n",
            "Time elapsed: 80.28208804130554\n",
            "\n",
            "\n",
            "Epoch: 8\n",
            "Topic diversity: 0.6912\n",
            "Perplexity: 686.9259313738627\n",
            "Time elapsed: 86.17986106872559\n",
            "\n",
            "\n",
            "Epoch: 9\n",
            "Topic diversity: 0.7024\n",
            "Perplexity: 684.1801608230222\n",
            "Time elapsed: 91.19336819648743\n",
            "\n",
            "\n",
            "Epoch: 10\n",
            "Topic diversity: 0.7168\n",
            "Perplexity: 682.5102941898463\n",
            "Time elapsed: 95.7994544506073\n",
            "\n",
            "\n",
            "Epoch: 11\n",
            "Topic diversity: 0.7328\n",
            "Perplexity: 682.8099628380322\n",
            "Time elapsed: 103.17507982254028\n",
            "\n",
            "\n",
            "Epoch: 12\n",
            "Topic diversity: 0.7432\n",
            "Perplexity: 683.5999875419138\n",
            "Time elapsed: 106.65708374977112\n",
            "\n",
            "\n",
            "Epoch: 13\n",
            "Topic diversity: 0.7504\n",
            "Perplexity: 685.2340963880322\n",
            "Time elapsed: 113.43238925933838\n",
            "\n",
            "\n",
            "Epoch: 14\n",
            "Topic diversity: 0.752\n",
            "Perplexity: 686.3802586342608\n",
            "Time elapsed: 117.6564781665802\n",
            "\n",
            "\n",
            "Epoch: 15\n",
            "Topic diversity: 0.7584\n",
            "Perplexity: 687.4340140725795\n",
            "Time elapsed: 125.2757670879364\n",
            "\n",
            "\n",
            "Epoch: 16\n",
            "Topic diversity: 0.7624\n",
            "Perplexity: 688.5268530430758\n",
            "Time elapsed: 127.87673544883728\n",
            "\n",
            "\n",
            "Epoch: 17\n",
            "Topic diversity: 0.7688\n",
            "Perplexity: 689.0054781984641\n",
            "Time elapsed: 133.43332934379578\n",
            "\n",
            "\n",
            "Epoch: 18\n",
            "Topic diversity: 0.7728\n",
            "Perplexity: 689.4977478287689\n",
            "Time elapsed: 140.5610842704773\n",
            "\n",
            "\n",
            "Epoch: 19\n",
            "Topic diversity: 0.7744\n",
            "Perplexity: 690.1629655787434\n",
            "Time elapsed: 141.91286969184875\n",
            "\n",
            "\n",
            "Epoch: 20\n",
            "Topic diversity: 0.7736\n",
            "Perplexity: 690.841507315578\n",
            "Time elapsed: 152.42630648612976\n",
            "\n",
            "\n",
            "Epoch: 21\n",
            "Topic diversity: 0.776\n",
            "Perplexity: 691.6740155895326\n",
            "Time elapsed: 153.72344064712524\n",
            "\n",
            "\n",
            "Epoch: 22\n",
            "Topic diversity: 0.7816\n",
            "Perplexity: 692.6890833024204\n",
            "Time elapsed: 158.77904343605042\n",
            "\n",
            "\n",
            "Epoch: 23\n",
            "Topic diversity: 0.7856\n",
            "Perplexity: 693.5531216978884\n",
            "Time elapsed: 163.0121099948883\n",
            "\n",
            "\n",
            "Epoch: 24\n",
            "Topic diversity: 0.788\n",
            "Perplexity: 694.3551117366276\n",
            "Time elapsed: 169.7891821861267\n",
            "\n",
            "\n",
            "Epoch: 25\n",
            "Topic diversity: 0.7888\n",
            "Perplexity: 695.1406565804792\n",
            "Time elapsed: 174.84874558448792\n",
            "\n",
            "\n",
            "Epoch: 26\n",
            "Topic diversity: 0.7904\n",
            "Perplexity: 695.750948622937\n",
            "Time elapsed: 179.6882185935974\n",
            "\n",
            "\n",
            "Epoch: 27\n",
            "Topic diversity: 0.7888\n",
            "Perplexity: 696.5393697443559\n",
            "Time elapsed: 182.90750122070312\n",
            "\n",
            "\n",
            "Epoch: 28\n",
            "Topic diversity: 0.7904\n",
            "Perplexity: 697.3434381411543\n",
            "Time elapsed: 188.72851514816284\n",
            "\n",
            "\n",
            "Epoch: 29\n",
            "Topic diversity: 0.792\n",
            "Perplexity: 698.1319553237026\n",
            "Time elapsed: 194.27946424484253\n",
            "\n",
            "\n",
            "Epoch: 30\n",
            "Topic diversity: 0.7912\n",
            "Perplexity: 698.7105744852136\n",
            "Time elapsed: 198.67858934402466\n",
            "\n",
            "\n",
            "Epoch: 31\n",
            "Topic diversity: 0.7896\n",
            "Perplexity: 698.9802264557937\n",
            "Time elapsed: 202.4485263824463\n",
            "\n",
            "\n",
            "Epoch: 32\n",
            "Topic diversity: 0.7896\n",
            "Perplexity: 699.4519872145175\n",
            "Time elapsed: 205.68505239486694\n",
            "\n",
            "\n",
            "Epoch: 33\n",
            "Topic diversity: 0.7896\n",
            "Perplexity: 699.786846256173\n",
            "Time elapsed: 212.67139196395874\n",
            "\n",
            "\n",
            "Epoch: 34\n",
            "Topic diversity: 0.7912\n",
            "Perplexity: 700.320001440229\n",
            "Time elapsed: 216.8082959651947\n",
            "\n",
            "\n",
            "Epoch: 35\n",
            "Topic diversity: 0.7928\n",
            "Perplexity: 700.7571167692973\n",
            "Time elapsed: 222.35463762283325\n",
            "\n",
            "\n",
            "Epoch: 36\n",
            "Topic diversity: 0.7936\n",
            "Perplexity: 701.1198702952323\n",
            "Time elapsed: 226.82471895217896\n",
            "\n",
            "\n",
            "Epoch: 37\n",
            "Topic diversity: 0.7936\n",
            "Perplexity: 701.3691118177472\n",
            "Time elapsed: 232.83239817619324\n",
            "\n",
            "\n",
            "Epoch: 38\n",
            "Topic diversity: 0.7936\n",
            "Perplexity: 701.5336705656073\n",
            "Time elapsed: 236.80679035186768\n",
            "\n",
            "\n",
            "Epoch: 39\n",
            "Topic diversity: 0.7944\n",
            "Perplexity: 701.7690389780647\n",
            "Time elapsed: 241.61271405220032\n",
            "\n",
            "\n",
            "Epoch: 40\n",
            "Topic diversity: 0.7944\n",
            "Perplexity: 702.1848512888158\n",
            "Time elapsed: 244.5595474243164\n",
            "\n",
            "\n",
            "Epoch: 41\n",
            "Topic diversity: 0.7952\n",
            "Perplexity: 702.3494950975731\n",
            "Time elapsed: 249.6061611175537\n",
            "\n",
            "\n",
            "Epoch: 42\n",
            "Topic diversity: 0.7944\n",
            "Perplexity: 702.6643053365203\n",
            "Time elapsed: 253.70803546905518\n",
            "\n",
            "\n",
            "Epoch: 43\n",
            "Topic diversity: 0.796\n",
            "Perplexity: 702.8256834293434\n",
            "Time elapsed: 260.7180802822113\n",
            "\n",
            "\n",
            "Epoch: 44\n",
            "Topic diversity: 0.796\n",
            "Perplexity: 703.1938978385127\n",
            "Time elapsed: 263.8060519695282\n",
            "\n",
            "\n",
            "Epoch: 45\n",
            "Topic diversity: 0.7968\n",
            "Perplexity: 703.4007927316533\n",
            "Time elapsed: 268.2968988418579\n",
            "\n",
            "\n",
            "Epoch: 46\n",
            "Topic diversity: 0.7976\n",
            "Perplexity: 703.5907915503172\n",
            "Time elapsed: 275.50380277633667\n",
            "\n",
            "\n",
            "Epoch: 47\n",
            "Topic diversity: 0.7984\n",
            "Perplexity: 703.6838313733731\n",
            "Time elapsed: 279.1706883907318\n",
            "\n",
            "\n",
            "Epoch: 48\n",
            "Topic diversity: 0.8008\n",
            "Perplexity: 703.8738937677758\n",
            "Time elapsed: 283.7150387763977\n",
            "\n",
            "\n",
            "Epoch: 49\n",
            "Topic diversity: 0.8008\n",
            "Perplexity: 703.8772071292188\n",
            "Time elapsed: 289.0983536243439\n",
            "\n",
            "\n",
            "Epoch: 50\n",
            "Topic diversity: 0.7984\n",
            "Perplexity: 704.0205816561022\n",
            "Time elapsed: 294.79371643066406\n",
            "\n",
            "\n"
          ]
        }
      ],
      "source": [
        "div_scores_all, ppl_scores_all, models, times = get_scores(data=matrix_all, min_epoch=1, max_epoch=51)"
      ]
    },
    {
      "cell_type": "code",
      "execution_count": null,
      "id": "NNer-j4shdmF",
      "metadata": {
        "colab": {
          "base_uri": "https://localhost:8080/",
          "height": 166
        },
        "id": "NNer-j4shdmF",
        "outputId": "c876720a-c90c-48e1-c498-34108c97ed37"
      },
      "outputs": [],
      "source": [
        "div_scores_all, ppl_scores_all, models, times = get_scores(data=matrix_all, min_epoch=1, max_epoch=51)"
      ]
    },
    {
      "cell_type": "markdown",
      "id": "f74a36b1",
      "metadata": {
        "id": "f74a36b1"
      },
      "source": [
        "*********************"
      ]
    },
    {
      "cell_type": "markdown",
      "id": "82lW2Ql8GKHq",
      "metadata": {
        "id": "82lW2Ql8GKHq"
      },
      "source": [
        "## Plot topics in the best LDA model (highest topic diversity) where Epoch = 49"
      ]
    },
    {
      "cell_type": "code",
      "execution_count": 10,
      "id": "HbaNI7cXF1jT",
      "metadata": {
        "id": "HbaNI7cXF1jT"
      },
      "outputs": [],
      "source": [
        "from sklearn.feature_extraction.text import TfidfVectorizer\n",
        "feature_names = vec.get_feature_names_out()\n",
        "n_top_words = 25"
      ]
    },
    {
      "cell_type": "code",
      "execution_count": null,
      "id": "CcDLYnIjGB2k",
      "metadata": {
        "id": "CcDLYnIjGB2k"
      },
      "outputs": [],
      "source": [
        "best_model = LDA(n_components=50, random_state=100, max_iter=49)\n",
        "best_model.fit_transform(matrix_all)"
      ]
    },
    {
      "cell_type": "code",
      "execution_count": null,
      "id": "5XeGTxAGGDur",
      "metadata": {
        "id": "5XeGTxAGGDur"
      },
      "outputs": [],
      "source": [
        "import matplotlib.pyplot as plt\n",
        "fig, axes = plt.subplots(10, 5, figsize=(40, 89), sharex=True)\n",
        "axes = axes.flatten()\n",
        "for topic_idx, topic in enumerate(best_model.components_):\n",
        "    top_features_ind = topic.argsort()[: -n_top_words - 1 : -1]\n",
        "    top_features = [feature_names[i] for i in top_features_ind]\n",
        "    weights = topic[top_features_ind]\n",
        "\n",
        "    ax = axes[topic_idx]\n",
        "    ax.barh(top_features, weights, height=0.7)\n",
        "    ax.set_title(f\"Topic {topic_idx +1}\", fontdict={\"fontsize\": 30})\n",
        "    ax.invert_yaxis()\n",
        "    ax.tick_params(axis=\"both\", which=\"major\", labelsize=20)\n",
        "    for i in \"top right left\".split():\n",
        "        ax.spines[i].set_visible(False)\n",
        "    fig.suptitle(\"Topics in LDA model with highest topic diversity (epoch = 49)\", fontsize = 80)\n",
        "plt.subplots_adjust(top=0.90,bottom=0.05, wspace=0.70, hspace=0.3)\n",
        "plt.savefig(\"LDAtopics_model_epoch49.png\")\n",
        "plt.show()"
      ]
    }
  ],
  "metadata": {
    "colab": {
      "provenance": []
    },
    "kernelspec": {
      "display_name": "Python 3.9.12 ('base')",
      "language": "python",
      "name": "python3"
    },
    "language_info": {
      "codemirror_mode": {
        "name": "ipython",
        "version": 3
      },
      "file_extension": ".py",
      "mimetype": "text/x-python",
      "name": "python",
      "nbconvert_exporter": "python",
      "pygments_lexer": "ipython3",
      "version": "3.9.12"
    },
    "vscode": {
      "interpreter": {
        "hash": "f1d5d3cb99416429492ee3d882e61228e704f5d9332d120e7cd73cf79b0bb85d"
      }
    }
  },
  "nbformat": 4,
  "nbformat_minor": 5
}
