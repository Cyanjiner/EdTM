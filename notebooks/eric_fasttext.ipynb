{
 "cells": [
  {
   "cell_type": "code",
   "execution_count": 1,
   "id": "49b9b43f",
   "metadata": {},
   "outputs": [],
   "source": [
    "import fasttext\n",
    "import os"
   ]
  },
  {
   "cell_type": "code",
   "execution_count": 2,
   "id": "2793d59e",
   "metadata": {},
   "outputs": [],
   "source": [
    "eric_file = os.path.join(\"data\", \"eric_docs.txt\")"
   ]
  },
  {
   "cell_type": "code",
   "execution_count": 3,
   "id": "0d4b331e",
   "metadata": {},
   "outputs": [],
   "source": [
    "model_filename = \"eric_fasttext.bin\""
   ]
  },
  {
   "cell_type": "markdown",
   "id": "95b85a69",
   "metadata": {},
   "source": [
    "    input             # training file path (required)\n",
    "    model             # unsupervised fasttext model {cbow, skipgram} [skipgram]\n",
    "    lr                # learning rate [0.05]\n",
    "    dim               # size of word vectors [100]\n",
    "    ws                # size of the context window [5]\n",
    "    epoch             # number of epochs [5]\n",
    "    minCount          # minimal number of word occurences [5]\n",
    "    minn              # min length of char ngram [3]\n",
    "    maxn              # max length of char ngram [6]\n",
    "    neg               # number of negatives sampled [5]\n",
    "    wordNgrams        # max length of word ngram [1]\n",
    "    loss              # loss function {ns, hs, softmax, ova} [ns]\n",
    "    bucket            # number of buckets [2000000]\n",
    "    thread            # number of threads [number of cpus]\n",
    "    lrUpdateRate      # change the rate of updates for the learning rate [100]\n",
    "    t                 # sampling threshold [0.0001]\n",
    "    verbose           # verbose [2]"
   ]
  },
  {
   "cell_type": "code",
   "execution_count": 4,
   "id": "bc26aa69",
   "metadata": {},
   "outputs": [
    {
     "name": "stderr",
     "output_type": "stream",
     "text": [
      "Read 260M words\n",
      "Number of words:  455591\n",
      "Number of labels: 0\n",
      "Progress: 100.0% words/sec/thread:   42651 lr:  0.000000 avg.loss:  0.078028 ETA:   0h 0m 0s0.6% words/sec/thread:   42858 lr:  0.049681 avg.loss:  1.559952 ETA:   4h39m45s 1.442648 ETA:   4h37m31s  1.8% words/sec/thread:   42853 lr:  0.049121 avg.loss:  1.404341 ETA:   4h36m38s 0.049075 avg.loss:  1.395165 ETA:   4h36m29s lr:  0.048783 avg.loss:  1.310317 ETA:   4h34m22s  2.5% words/sec/thread:   42915 lr:  0.048766 avg.loss:  1.299226 ETA:   4h34m14sh34m 2s lr:  0.048735 avg.loss:  1.279985 ETA:   4h33m58s 0.945215 ETA:   4h29m24s 0.795922 ETA:   4h24m20s20m 9s words/sec/thread:   42894 lr:  0.045329 avg.loss:  0.663438 ETA:   4h15m 2s14m49s 11.6% words/sec/thread:   42975 lr:  0.044213 avg.loss:  0.544480 ETA:   4h 8m17s 0.044103 avg.loss:  0.534777 ETA:   4h 7m39s 12.6% words/sec/thread:   42980 lr:  0.043710 avg.loss:  0.502983 ETA:   4h 5m26s0.043453 avg.loss:  0.483984 ETA:   4h 4m 9s 14.3% words/sec/thread:   42966 lr:  0.042872 avg.loss:  0.446450 ETA:   4h 0m48s 0.443010 ETA:   4h 0m28s0.437254 ETA:   3h59m55s 15.3% words/sec/thread:   42970 lr:  0.042353 avg.loss:  0.417792 ETA:   3h57m52ss0.366879 ETA:   3h51m34s 20.4% words/sec/thread:   42956 lr:  0.039805 avg.loss:  0.319117 ETA:   3h43m38s 0.308540 ETA:   3h41m38s lr:  0.038713 avg.loss:  0.290424 ETA:   3h37m33s% words/sec/thread:   42950 lr:  0.037959 avg.loss:  0.273865 ETA:   3h33m17s avg.loss:  0.272344 ETA:   3h32m52s words/sec/thread:   42933 lr:  0.037434 avg.loss:  0.263360 ETA:   3h30m25sh30m19s 0.036984 avg.loss:  0.255038 ETA:   3h27m54s42943 lr:  0.036314 avg.loss:  0.243725 ETA:   3h24m 5s0.209940 ETA:   3h10m58s  42762 lr:  0.033354 avg.loss:  0.204137 ETA:   3h 8m14s  42719 lr:  0.032054 avg.loss:  0.190812 ETA:   3h 1m 5s 44.1% words/sec/thread:   42586 lr:  0.027929 avg.loss:  0.158977 ETA:   2h38m16s lr:  0.023594 avg.loss:  0.135732 ETA:   2h14m 1s  2h13m12s  2h 6m23s 0.022051 avg.loss:  0.129157 ETA:   2h 5m20s% words/sec/thread:   42446 lr:  0.021873 avg.loss:  0.128425 ETA:   2h 4m22s 0.127959 ETA:   2h 3m42s33s ETA:   1h59m22s42421 lr:  0.019919 avg.loss:  0.121096 ETA:   1h53m19sh49m33s words/sec/thread:   42414 lr:  0.019229 avg.loss:  0.118729 ETA:   1h49m24sh44m42s 66.9% words/sec/thread:   42387 lr:  0.016529 avg.loss:  0.110354 ETA:   1h34m 6s lr:  0.014669 avg.loss:  0.105298 ETA:   1h23m31s avg.loss:  0.104011 ETA:   1h20m39s avg.loss:  0.103157 ETA:   1h18m41s  42431 lr:  0.012946 avg.loss:  0.101044 ETA:   1h13m38ss 75.7% words/sec/thread:   42449 lr:  0.012143 avg.loss:  0.099197 ETA:   1h 9m 2s  42454 lr:  0.011951 avg.loss:  0.098771 ETA:   1h 7m56s words/sec/thread:   42454 lr:  0.011946 avg.loss:  0.098758 ETA:   1h 7m54s 7m26sh 6m44s 79.6% words/sec/thread:   42493 lr:  0.010213 avg.loss:  0.095059 ETA:   0h58m 0s lr:  0.010151 avg.loss:  0.094932 ETA:   0h57m39s% words/sec/thread:   42496 lr:  0.010092 avg.loss:  0.094808 ETA:   0h57m18s  42517 lr:  0.009053 avg.loss:  0.092685 ETA:   0h51m23s 83.5% words/sec/thread:   42533 lr:  0.008272 avg.loss:  0.091171 ETA:   0h46m56s  0h42m35s 86.8% words/sec/thread:   42562 lr:  0.006584 avg.loss:  0.088152 ETA:   0h37m19s  0h29m38s42595 lr:  0.004529 avg.loss:  0.084741 ETA:   0h25m39s lr:  0.004193 avg.loss:  0.084193 ETA:   0h23m45s92.3% words/sec/thread:   42596 lr:  0.003844 avg.loss:  0.083643 ETA:   0h21m46s 93.2% words/sec/thread:   42606 lr:  0.003417 avg.loss:  0.082978 ETA:   0h19m21s  42628 lr:  0.001869 avg.loss:  0.080650 ETA:   0h10m34s 0.001535 avg.loss:  0.080172 ETA:   0h 8m41s42634 lr:  0.001459 avg.loss:  0.080066 ETA:   0h 8m15s ETA:   0h 1m55s1m27s"
     ]
    },
    {
     "name": "stdout",
     "output_type": "stream",
     "text": [
      "CPU times: user 1d 17h 54min 14s, sys: 6min, total: 1d 18h 14s\n",
      "Wall time: 4h 43min 17s\n"
     ]
    },
    {
     "name": "stderr",
     "output_type": "stream",
     "text": [
      "\r",
      "Progress: 100.0% words/sec/thread:   42651 lr:  0.000000 avg.loss:  0.078028 ETA:   0h 0m 0s\r",
      "Progress: 100.0% words/sec/thread:   42651 lr: -0.000000 avg.loss:  0.078027 ETA:   0h 0m 0s\r",
      "Progress: 100.0% words/sec/thread:   42651 lr:  0.000000 avg.loss:  0.078027 ETA:   0h 0m 0s\n"
     ]
    }
   ],
   "source": [
    "%%time\n",
    "ericft = fasttext.train_unsupervised(input=eric_file, dim=300, epoch=25)"
   ]
  },
  {
   "cell_type": "code",
   "execution_count": 5,
   "id": "6cb925d6",
   "metadata": {},
   "outputs": [],
   "source": [
    "ericft.save_model(model_filename)"
   ]
  }
 ],
 "metadata": {
  "kernelspec": {
   "display_name": "CS229",
   "language": "python",
   "name": "cs229"
  },
  "language_info": {
   "codemirror_mode": {
    "name": "ipython",
    "version": 3
   },
   "file_extension": ".py",
   "mimetype": "text/x-python",
   "name": "python",
   "nbconvert_exporter": "python",
   "pygments_lexer": "ipython3",
   "version": "3.9.13"
  }
 },
 "nbformat": 4,
 "nbformat_minor": 5
}
