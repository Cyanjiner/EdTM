{
 "cells": [
  {
   "cell_type": "code",
   "execution_count": 1,
   "id": "1d3769f0",
   "metadata": {},
   "outputs": [],
   "source": [
    "import lxml.html\n",
    "import html\n",
    "from nltk import word_tokenize, sent_tokenize\n",
    "from tqdm import tqdm\n",
    "import pandas as pd\n",
    "import gcld3\n",
    "import os\n",
    "import re"
   ]
  },
  {
   "cell_type": "code",
   "execution_count": 2,
   "id": "88bcec09",
   "metadata": {},
   "outputs": [],
   "source": [
    "with open(os.path.join(\"data\", \"OJS_languages_disciplines.csv\"), \"r\") as infile:\n",
    "    ojs = pd.read_csv(infile)"
   ]
  },
  {
   "cell_type": "code",
   "execution_count": 3,
   "id": "44ea5219",
   "metadata": {},
   "outputs": [],
   "source": [
    "ojsED = ojs[ojs[\"discipline\"] == \"Education\"]\n",
    "del ojs"
   ]
  },
  {
   "cell_type": "code",
   "execution_count": 4,
   "id": "297e5dff",
   "metadata": {},
   "outputs": [
    {
     "name": "stdout",
     "output_type": "stream",
     "text": [
      "5076 education journal issns in the OJS data dump.\n"
     ]
    }
   ],
   "source": [
    "ed_issns = ojsED[\"issn\"].tolist() + ojsED[\"issn_alt\"].tolist()\n",
    "ed_issns = [issn for issn in ed_issns if issn]\n",
    "print(f\"{len(ed_issns)} education journal issns in the OJS data dump.\")"
   ]
  },
  {
   "cell_type": "code",
   "execution_count": 5,
   "id": "813b4570",
   "metadata": {},
   "outputs": [],
   "source": [
    "path_to_datadump = os.path.join(\"data\", \"datadump.txt\")"
   ]
  },
  {
   "cell_type": "code",
   "execution_count": 6,
   "id": "4e3a59c5",
   "metadata": {},
   "outputs": [],
   "source": [
    "identifier = gcld3.NNetLanguageIdentifier(0, 1000)"
   ]
  },
  {
   "cell_type": "code",
   "execution_count": 7,
   "id": "18593063",
   "metadata": {},
   "outputs": [
    {
     "name": "stderr",
     "output_type": "stream",
     "text": [
      "27707it [52:12,  8.84it/s]"
     ]
    },
    {
     "name": "stdout",
     "output_type": "stream",
     "text": [
      "339649 docs pulled from the data dump. Each is a title or description of an OJS Education article.\n"
     ]
    },
    {
     "name": "stderr",
     "output_type": "stream",
     "text": [
      "\n"
     ]
    }
   ],
   "source": [
    "docs = []\n",
    "metadata_pattern = \"<metadata>.+</metadata>\"\n",
    "    \n",
    "with open(path_to_datadump, \"r\") as infile:\n",
    "    \n",
    "    for line in tqdm(infile):\n",
    "        content = re.search(metadata_pattern, line, re.MULTILINE | re.DOTALL)\n",
    "        \n",
    "        if content:\n",
    "            tree = lxml.html.fromstring(content.group())\n",
    "            \n",
    "            for child in tree.getchildren():\n",
    "                ed_record = False\n",
    "                \n",
    "                for source in child.xpath(\".//source\"):\n",
    "                    if source.text is not None:\n",
    "                        if source.text.strip() in ed_issns:\n",
    "                            ed_record = True\n",
    "                            break\n",
    "                        \n",
    "                if ed_record:\n",
    "                    try:\n",
    "                        for title in child.xpath(\".//title\"):\n",
    "                            if identifier.FindLanguage(title.text).language == \"en\":\n",
    "                                docs.append(\n",
    "                                    html.unescape(title.text)\n",
    "                                )\n",
    "                                \n",
    "                        for desc in child.xpath(\".//description\"):\n",
    "                            if identifier.FindLanguage(desc.text).language == \"en\":\n",
    "                                docs.append(\n",
    "                                    html.unescape(desc.text)\n",
    "                                )\n",
    "                    except:\n",
    "                        continue \n",
    "                        \n",
    "            while tree.getprevious() is not None:\n",
    "                del tree.getparent()[0]\n",
    "        del content\n",
    "                        \n",
    "print(f\"{len(docs)} docs pulled from the data dump. Each is a title or description of an OJS Education article.\")"
   ]
  },
  {
   "cell_type": "code",
   "execution_count": 10,
   "id": "1017985e",
   "metadata": {},
   "outputs": [],
   "source": [
    "path_to_txt = os.path.join(\"data\", \"ojs_docs.txt\")"
   ]
  },
  {
   "cell_type": "code",
   "execution_count": 13,
   "id": "25a7dea5",
   "metadata": {},
   "outputs": [],
   "source": [
    "num_docs = 0\n",
    "with open(path_to_txt, \"w\") as outfile:\n",
    "    for doc in docs:\n",
    "        for sent in sent_tokenize(doc):\n",
    "            sent_clean = re.sub(r\"\\\\n\", \" \", sent)\n",
    "            sent_clean = re.sub(r\"\\\\\", \"\", sent_clean)\n",
    "            outfile.write(\"%s\\n\" % (sent_clean,)) # Write each title or sentence to file\n",
    "            num_docs += 1"
   ]
  },
  {
   "cell_type": "code",
   "execution_count": 14,
   "id": "b2f62111",
   "metadata": {},
   "outputs": [
    {
     "name": "stdout",
     "output_type": "stream",
     "text": [
      "1651014 docs saved as OJS topic model inputs. Each doc is a title or sentence describing an Ed article.\n"
     ]
    }
   ],
   "source": [
    "print(f\"{num_docs} docs saved as OJS topic model inputs. Each doc is a title or sentence describing an Ed article.\")\n",
    "del docs"
   ]
  },
  {
   "cell_type": "code",
   "execution_count": 16,
   "id": "6cba1520",
   "metadata": {},
   "outputs": [
    {
     "name": "stdout",
     "output_type": "stream",
     "text": [
      "CPU times: user 3min 6s, sys: 299 ms, total: 3min 7s\n",
      "Wall time: 3min 7s\n"
     ]
    }
   ],
   "source": [
    "%%time\n",
    "\n",
    "num_toks = 0\n",
    "with open(path_to_txt, \"r\") as infile:\n",
    "    for line in infile:\n",
    "        num_toks += len(word_tokenize(line))"
   ]
  },
  {
   "cell_type": "code",
   "execution_count": 17,
   "id": "295fee57",
   "metadata": {},
   "outputs": [
    {
     "name": "stdout",
     "output_type": "stream",
     "text": [
      "43120464 tokens saved as OJS topic model inputs.\n"
     ]
    }
   ],
   "source": [
    "print(f\"{num_toks} tokens saved as OJS topic model inputs.\")"
   ]
  }
 ],
 "metadata": {
  "kernelspec": {
   "display_name": "ETM",
   "language": "python",
   "name": "etm"
  },
  "language_info": {
   "codemirror_mode": {
    "name": "ipython",
    "version": 3
   },
   "file_extension": ".py",
   "mimetype": "text/x-python",
   "name": "python",
   "nbconvert_exporter": "python",
   "pygments_lexer": "ipython3",
   "version": "3.6.7"
  }
 },
 "nbformat": 4,
 "nbformat_minor": 5
}
