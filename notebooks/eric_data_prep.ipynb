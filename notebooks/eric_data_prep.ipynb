{
 "cells": [
  {
   "cell_type": "code",
   "execution_count": 1,
   "id": "3e4fd14a",
   "metadata": {},
   "outputs": [],
   "source": [
    "__author__ = \"Jon Ball\"\n",
    "__version__ = \"Summer 2022\""
   ]
  },
  {
   "cell_type": "code",
   "execution_count": 2,
   "id": "3bf05b19",
   "metadata": {},
   "outputs": [
    {
     "name": "stdout",
     "output_type": "stream",
     "text": [
      "Python 3.10.5\r\n"
     ]
    }
   ],
   "source": [
    "!python --version"
   ]
  },
  {
   "cell_type": "markdown",
   "id": "624f2117",
   "metadata": {},
   "source": [
    "# Data preprocessing for \"The Collective Mind and the Machine\""
   ]
  },
  {
   "cell_type": "markdown",
   "id": "ebc90b23",
   "metadata": {},
   "source": [
    "1. [*Sociology of Education* and peer journals ](#soced) (1990-2019)\n",
    "    1. [*American Sociological Review*](#asr)\n",
    "    2. [*American Journal of Sociology*](#ajs)\n",
    "    3. [*American Journal of Education*](#aje)\n",
    "    4. [*American Education Research Journal*](#aerj)\n",
    "2. [ERIC in its entirety](#eric) (1990-2019)\n",
    "3. [Token counts for ETM train datasets](#toks)"
   ]
  },
  {
   "cell_type": "markdown",
   "id": "a9970221",
   "metadata": {},
   "source": [
    "All data pertaining to specific journals accessed using the <a href=\"https://eric.ed.gov/?api\">ERIC API</a>."
   ]
  },
  {
   "cell_type": "code",
   "execution_count": 3,
   "id": "1c2ebdb4",
   "metadata": {},
   "outputs": [],
   "source": [
    "from eric_utils import (\n",
    "    parse_eric_api,\n",
    "    parse_eric_database,\n",
    "    make_df,\n",
    "    save_author_list\n",
    ")\n",
    "from nltk.tokenize import word_tokenize, sent_tokenize\n",
    "from string import punctuation\n",
    "from lxml import etree\n",
    "from tqdm import tqdm\n",
    "import pandas as pd\n",
    "import spacy\n",
    "import html\n",
    "import json\n",
    "import time\n",
    "import re\n",
    "import os"
   ]
  },
  {
   "cell_type": "markdown",
   "id": "05780a43",
   "metadata": {},
   "source": [
    "### *Sociology of Education* (*n* = 540) <a id=\"soced\"></a>"
   ]
  },
  {
   "cell_type": "code",
   "execution_count": 4,
   "id": "33cac425",
   "metadata": {},
   "outputs": [
    {
     "name": "stdout",
     "output_type": "stream",
     "text": [
      "2000 docs parsed.\n",
      "CPU times: user 95.6 ms, sys: 6.96 ms, total: 103 ms\n",
      "Wall time: 103 ms\n"
     ]
    }
   ],
   "source": [
    "%time soced1 = parse_eric_api(os.path.join(\"eric_data\", \"soced1.xml\"))"
   ]
  },
  {
   "cell_type": "code",
   "execution_count": 5,
   "id": "775248cb",
   "metadata": {},
   "outputs": [
    {
     "name": "stdout",
     "output_type": "stream",
     "text": [
      "489 docs parsed.\n",
      "CPU times: user 15.4 ms, sys: 2.21 ms, total: 17.6 ms\n",
      "Wall time: 18.6 ms\n"
     ]
    }
   ],
   "source": [
    "%time soced2 = parse_eric_api(os.path.join(\"eric_data\", \"soced2.xml\"))"
   ]
  },
  {
   "cell_type": "markdown",
   "id": "ecb1942d",
   "metadata": {},
   "source": [
    "The ERIC API query for \"source:'Sociology of Education'\" returned articles published in *Sociology of Education*, *British Journal of Sociology of Education*, and *International Studies in Sociology of Education*."
   ]
  },
  {
   "cell_type": "code",
   "execution_count": 6,
   "id": "baf9c044",
   "metadata": {},
   "outputs": [
    {
     "name": "stdout",
     "output_type": "stream",
     "text": [
      "1742 relevant articles published from 1990-2019.\n"
     ]
    }
   ],
   "source": [
    "soced = soced1 + soced2 # Add the results of the two queries\n",
    "seDF = make_df(soced)"
   ]
  },
  {
   "cell_type": "markdown",
   "id": "c83b1f73",
   "metadata": {},
   "source": [
    "Save author names from *British Journal of Sociology of Education* to check Brint's claims about the U.S. focus of the subfield:"
   ]
  },
  {
   "cell_type": "code",
   "execution_count": 7,
   "id": "f30bf7e9",
   "metadata": {},
   "outputs": [
    {
     "name": "stdout",
     "output_type": "stream",
     "text": [
      "1193 individual authors indexed in bjse publications from 1990-2019.\n",
      "Author list saved as bjse_authors.json\n"
     ]
    }
   ],
   "source": [
    "bjseDF = seDF[seDF.issn == \"ISSN-0142-5692\"]\n",
    "save_author_list(bjseDF, \"bjse\")"
   ]
  },
  {
   "cell_type": "markdown",
   "id": "afc66abe",
   "metadata": {},
   "source": [
    "Save author names from *International Studies in Sociology of Education* to check Brint's claims about the U.S. focus of the subfield:"
   ]
  },
  {
   "cell_type": "code",
   "execution_count": 8,
   "id": "fcb75374",
   "metadata": {},
   "outputs": [
    {
     "name": "stdout",
     "output_type": "stream",
     "text": [
      "438 individual authors indexed in isse publications from 1990-2019.\n",
      "Author list saved as isse_authors.json\n"
     ]
    }
   ],
   "source": [
    "isseDF = seDF[seDF.issn == \"ISSN-0962-0214\"]\n",
    "save_author_list(isseDF, \"isse\")"
   ]
  },
  {
   "cell_type": "markdown",
   "id": "f2dc7705",
   "metadata": {},
   "source": [
    "Finally, save author names from *Sociology of Education* itself:"
   ]
  },
  {
   "cell_type": "code",
   "execution_count": 9,
   "id": "0fa78da0",
   "metadata": {},
   "outputs": [
    {
     "name": "stdout",
     "output_type": "stream",
     "text": [
      "706 individual authors indexed in soced publications from 1990-2019.\n",
      "Author list saved as soced_authors.json\n",
      "<class 'pandas.core.frame.DataFrame'>\n",
      "Int64Index: 540 entries, 0 to 539\n",
      "Data columns (total 8 columns):\n",
      " #   Column       Non-Null Count  Dtype \n",
      "---  ------       --------------  ----- \n",
      " 0   index        540 non-null    int64 \n",
      " 1   title        540 non-null    object\n",
      " 2   author       540 non-null    object\n",
      " 3   description  540 non-null    object\n",
      " 4   subject      540 non-null    object\n",
      " 5   year         540 non-null    int64 \n",
      " 6   issn         540 non-null    object\n",
      " 7   etm_input    540 non-null    object\n",
      "dtypes: int64(2), object(6)\n",
      "memory usage: 38.0+ KB\n"
     ]
    }
   ],
   "source": [
    "seDF = seDF[seDF.issn == \"ISSN-0038-0407\"]\n",
    "save_author_list(seDF, \"soced\")\n",
    "seDF.info()"
   ]
  },
  {
   "cell_type": "markdown",
   "id": "1af5135c",
   "metadata": {},
   "source": [
    "### *American Sociological Review* (*n* = 106) <a id=\"asr\"></a>"
   ]
  },
  {
   "cell_type": "code",
   "execution_count": 10,
   "id": "d0109a34",
   "metadata": {},
   "outputs": [
    {
     "name": "stdout",
     "output_type": "stream",
     "text": [
      "350 docs parsed.\n",
      "106 relevant articles published from 1990-2019.\n",
      "172 individual authors indexed in asr publications from 1990-2019.\n",
      "Author list saved as asr_authors.json\n"
     ]
    }
   ],
   "source": [
    "asr = parse_eric_api(os.path.join(\"eric_data\", \"asr.xml\"))\n",
    "asrDF = make_df(asr)\n",
    "save_author_list(asrDF, \"asr\")"
   ]
  },
  {
   "cell_type": "markdown",
   "id": "9630416c",
   "metadata": {},
   "source": [
    "### *American Journal of Sociology* (*n* = 38) <a id=\"ajs\"></a>"
   ]
  },
  {
   "cell_type": "code",
   "execution_count": 11,
   "id": "03243c00",
   "metadata": {},
   "outputs": [
    {
     "name": "stdout",
     "output_type": "stream",
     "text": [
      "333 docs parsed.\n",
      "38 relevant articles published from 1990-2019.\n",
      "68 individual authors indexed in ajs publications from 1990-2019.\n",
      "Author list saved as ajs_authors.json\n"
     ]
    }
   ],
   "source": [
    "ajs = parse_eric_api(os.path.join(\"eric_data\", \"ajs.xml\"))\n",
    "ajsDF = make_df(ajs)\n",
    "save_author_list(ajsDF, \"ajs\")"
   ]
  },
  {
   "cell_type": "markdown",
   "id": "48369c36",
   "metadata": {},
   "source": [
    "Create a list of sociologists who published in *Soc of Ed*, *ASR*, or *AJS* and are indexed in ERIC.<br>\n",
    "This list will be used to filter articles published in *AJE* and *AERJ* which have at least one sociologist as a coauthor.<br>\n",
    "It provides a definition of the *AJE* and *AERJ* articles which \"count\" as the Sociology of Education."
   ]
  },
  {
   "cell_type": "code",
   "execution_count": 12,
   "id": "b686e5f1",
   "metadata": {},
   "outputs": [
    {
     "name": "stdout",
     "output_type": "stream",
     "text": [
      "887 individual authors published in Soc of Ed, ASR, or AJS from 1990-2019 and indexed in ERIC.\n"
     ]
    }
   ],
   "source": [
    "sociologists = []\n",
    "for filename in [\"soced_authors.json\", \"asr_authors.json\", \"ajs_authors.json\"]:\n",
    "    with open(os.path.join(\"eric_data\", filename), \"r\") as infile:\n",
    "        sociologists.extend(\n",
    "            json.load(infile)\n",
    "        )\n",
    "        \n",
    "sociologists = list(set(sociologists))\n",
    "print(\"%s individual authors published in Soc of Ed, ASR, or AJS from 1990-2019 and indexed in ERIC.\" % (len(sociologists),))"
   ]
  },
  {
   "cell_type": "markdown",
   "id": "c8d17b50",
   "metadata": {},
   "source": [
    "### *American Journal of Education* (*n* = 138) <a id=\"aje\"></a>"
   ]
  },
  {
   "cell_type": "code",
   "execution_count": 13,
   "id": "331dace1",
   "metadata": {},
   "outputs": [
    {
     "name": "stdout",
     "output_type": "stream",
     "text": [
      "735 docs parsed.\n",
      "504 relevant articles published from 1990-2019.\n"
     ]
    }
   ],
   "source": [
    "aje = parse_eric_api(os.path.join(\"eric_data\", \"aje.xml\"))\n",
    "ajeDF = make_df(aje)"
   ]
  },
  {
   "cell_type": "markdown",
   "id": "8f0fe2a3",
   "metadata": {},
   "source": [
    "Filter *AJE* articles for those with sociologist coauthors:"
   ]
  },
  {
   "cell_type": "code",
   "execution_count": 14,
   "id": "1749401d",
   "metadata": {},
   "outputs": [
    {
     "name": "stdout",
     "output_type": "stream",
     "text": [
      "138 AJE articles (1990-2019) were co-authored by researchers who also published in Soc.\n"
     ]
    }
   ],
   "source": [
    "aje_ids = []\n",
    "for index, row in ajeDF.iterrows():\n",
    "    for author in sociologists:\n",
    "        if author in row[\"author\"]:\n",
    "            aje_ids.append(index)\n",
    "\n",
    "ajeDF = ajeDF.loc[aje_ids]    \n",
    "print(\"%s AJE articles (1990-2019) were co-authored by researchers who also published in Soc.\" % (ajeDF.shape[0],))"
   ]
  },
  {
   "cell_type": "markdown",
   "id": "c9885f6b",
   "metadata": {},
   "source": [
    "### *American Educational Research Journal* (*n* = 251) <a id=\"aerj\"></a>"
   ]
  },
  {
   "cell_type": "code",
   "execution_count": 15,
   "id": "782b5133",
   "metadata": {},
   "outputs": [
    {
     "name": "stdout",
     "output_type": "stream",
     "text": [
      "1872 docs parsed.\n",
      "1036 relevant articles published from 1990-2019.\n"
     ]
    }
   ],
   "source": [
    "aerj = parse_eric_api(os.path.join(\"eric_data\", \"aerj.xml\"))\n",
    "aerjDF = make_df(aerj)"
   ]
  },
  {
   "cell_type": "markdown",
   "id": "9b9c717f",
   "metadata": {},
   "source": [
    "Filter *AERJ* articles for those with sociologist coauthors:"
   ]
  },
  {
   "cell_type": "code",
   "execution_count": 16,
   "id": "e85e6e72",
   "metadata": {},
   "outputs": [
    {
     "name": "stdout",
     "output_type": "stream",
     "text": [
      "251 AERJ articles (1990-2019) were co-authored by researchers who also published in Soc.\n"
     ]
    }
   ],
   "source": [
    "aerj_ids = []\n",
    "for index, row in aerjDF.iterrows():\n",
    "    for author in sociologists:\n",
    "        if author in row[\"author\"]:\n",
    "            aerj_ids.append(index)\n",
    "\n",
    "aerjDF = aerjDF.loc[aerj_ids]    \n",
    "print(\"%s AERJ articles (1990-2019) were co-authored by researchers who also published in Soc.\" % (aerjDF.shape[0],))"
   ]
  },
  {
   "cell_type": "markdown",
   "id": "485fac02",
   "metadata": {},
   "source": [
    "### Create Soc of Ed inputs for embedded topic modeling:"
   ]
  },
  {
   "cell_type": "code",
   "execution_count": 17,
   "id": "577b78cf",
   "metadata": {},
   "outputs": [
    {
     "name": "stdout",
     "output_type": "stream",
     "text": [
      "5721 sentences saved as inputs for embedded topic modeling.\n"
     ]
    }
   ],
   "source": [
    "etm_inputs = []\n",
    "for df in [seDF, asrDF, ajsDF, ajeDF, aerjDF]:\n",
    "    etm_inputs.extend(df[\"etm_input\"].tolist())\n",
    "\n",
    "soced_sents = []\n",
    "for doc in etm_inputs:\n",
    "    soced_sents.extend(\n",
    "        sent_tokenize(doc) # Dieng. et al used sentences as docs; this is conventional for word2vec as well\n",
    "    )\n",
    "del etm_inputs\n",
    "    \n",
    "with open(os.path.join(\"eric_data\", \"soced_etm_inputs.txt\"), \"w\") as outfile:\n",
    "    for sent in soced_sents:\n",
    "        outfile.write(\n",
    "            \"%s\\n\" % (sent,)\n",
    "        )\n",
    "print(\"%s sentences saved as inputs for embedded topic modeling.\" % (len(soced_sents),))"
   ]
  },
  {
   "cell_type": "code",
   "execution_count": 18,
   "id": "670994c5",
   "metadata": {},
   "outputs": [],
   "source": [
    "del soced, soced1, soced2, seDF, bjseDF, isseDF, asr, asrDF, ajs, ajsDF, sociologists\n",
    "del aje, ajeDF, aerj, aerjDF, soced_sents"
   ]
  },
  {
   "cell_type": "markdown",
   "id": "08cc0d8b",
   "metadata": {},
   "source": [
    "## All journal articles indexed in ERIC, 1990-2019 <br><a id=\"eric\"></a>\n",
    ".xml files accessed at https://eric.ed.gov/?download."
   ]
  },
  {
   "cell_type": "code",
   "execution_count": 19,
   "id": "01ee3bf4",
   "metadata": {},
   "outputs": [
    {
     "name": "stdout",
     "output_type": "stream",
     "text": [
      "808094 journal articles parsed in total.\n",
      "CPU times: user 1min 18s, sys: 3.08 s, total: 1min 21s\n",
      "Wall time: 1min 21s\n"
     ]
    }
   ],
   "source": [
    "%%time\n",
    "\n",
    "for roor, dirs, files in os.walk(\"eric_data\"):\n",
    "    \n",
    "    eric_articles = []\n",
    "    \n",
    "    for file in sorted(files):\n",
    "        if re.search(r\"\\d{4}\", file): # Match files with year in filename; \"eric1990.xml\"\n",
    "            \n",
    "            eric_articles.extend(\n",
    "                parse_eric_database(os.path.join(\"eric_data\", file),\n",
    "                                    item_type=\"Journal Articles\")\n",
    "            )\n",
    "\n",
    "print(\"%s journal articles parsed in total.\" % len(eric_articles))"
   ]
  },
  {
   "cell_type": "code",
   "execution_count": 20,
   "id": "bbd794b3",
   "metadata": {},
   "outputs": [
    {
     "name": "stdout",
     "output_type": "stream",
     "text": [
      "793971 relevant articles published from 1990-2019.\n",
      "<class 'pandas.core.frame.DataFrame'>\n",
      "RangeIndex: 793971 entries, 0 to 793970\n",
      "Data columns (total 8 columns):\n",
      " #   Column       Non-Null Count   Dtype \n",
      "---  ------       --------------   ----- \n",
      " 0   index        793971 non-null  int64 \n",
      " 1   subject      793971 non-null  object\n",
      " 2   author       793971 non-null  object\n",
      " 3   description  793971 non-null  object\n",
      " 4   title        793971 non-null  object\n",
      " 5   year         793971 non-null  int64 \n",
      " 6   source       793940 non-null  object\n",
      " 7   etm_input    793971 non-null  object\n",
      "dtypes: int64(2), object(6)\n",
      "memory usage: 48.5+ MB\n"
     ]
    }
   ],
   "source": [
    "eDF = make_df(eric_articles)\n",
    "eDF.info()"
   ]
  },
  {
   "cell_type": "markdown",
   "id": "f88e18b1",
   "metadata": {},
   "source": [
    "Check that the year range is correct:"
   ]
  },
  {
   "cell_type": "code",
   "execution_count": 21,
   "id": "76a259ce",
   "metadata": {},
   "outputs": [
    {
     "name": "stdout",
     "output_type": "stream",
     "text": [
      "[1990, 1991, 1992, 1993, 1994, 1995, 1996, 1997, 1998, 1999, 2000, 2001, 2002, 2003, 2004, 2005, 2006, 2007, 2008, 2009, 2010, 2011, 2012, 2013, 2014, 2015, 2016, 2017, 2018, 2019]\n"
     ]
    }
   ],
   "source": [
    "print(sorted(eDF[\"year\"].unique()))"
   ]
  },
  {
   "cell_type": "markdown",
   "id": "1ca84eea",
   "metadata": {},
   "source": [
    "Remove duplicates:"
   ]
  },
  {
   "cell_type": "code",
   "execution_count": 22,
   "id": "652e079a",
   "metadata": {},
   "outputs": [
    {
     "data": {
      "text/plain": [
       "4158"
      ]
     },
     "execution_count": 22,
     "metadata": {},
     "output_type": "execute_result"
    }
   ],
   "source": [
    "eDF[\"title\"].duplicated().sum()"
   ]
  },
  {
   "cell_type": "code",
   "execution_count": 23,
   "id": "bb04748b",
   "metadata": {},
   "outputs": [
    {
     "name": "stdout",
     "output_type": "stream",
     "text": [
      "(789813, 8)\n"
     ]
    }
   ],
   "source": [
    "eDF.drop_duplicates(subset=[\"title\"], inplace=True)\n",
    "print(eDF.shape)"
   ]
  },
  {
   "cell_type": "code",
   "execution_count": 24,
   "id": "be0b3e72",
   "metadata": {},
   "outputs": [
    {
     "data": {
      "text/plain": [
       "False"
      ]
     },
     "execution_count": 24,
     "metadata": {},
     "output_type": "execute_result"
    }
   ],
   "source": [
    "eDF[\"etm_input\"].duplicated().any() or eDF[\"etm_input\"].isnull().any() or eDF[\"author\"].isnull().any()"
   ]
  },
  {
   "cell_type": "code",
   "execution_count": 25,
   "id": "4eb228bc",
   "metadata": {},
   "outputs": [],
   "source": [
    "del eric_articles"
   ]
  },
  {
   "cell_type": "markdown",
   "id": "f406eebf",
   "metadata": {},
   "source": [
    "Save to .csv:"
   ]
  },
  {
   "cell_type": "code",
   "execution_count": 26,
   "id": "8800380a",
   "metadata": {},
   "outputs": [],
   "source": [
    "eDF.to_csv(os.path.join(\"eric_data\", \"eric_articles_1990-2019.csv\"), index=False)"
   ]
  },
  {
   "cell_type": "markdown",
   "id": "3424f5d6",
   "metadata": {},
   "source": [
    "Save a list of tuples matching each author to a journal in which they published.<br>\n",
    "An author's name will be the first element in multiple tuples if they published in multiple venues."
   ]
  },
  {
   "cell_type": "code",
   "execution_count": 27,
   "id": "8b7929e0",
   "metadata": {},
   "outputs": [
    {
     "name": "stdout",
     "output_type": "stream",
     "text": [
      "1287361 unique author to journal pairings.\n"
     ]
    }
   ],
   "source": [
    "author2source = []\n",
    "for author_list, source in list(zip(eDF[\"author\"], eDF[\"source\"])):\n",
    "    for author in author_list:\n",
    "        author2source.append((author, source))\n",
    "        \n",
    "author2source = list(set(author2source))\n",
    "print(\"%s unique author to journal pairings.\" % len(author2source))"
   ]
  },
  {
   "cell_type": "code",
   "execution_count": 28,
   "id": "beb9cf6e",
   "metadata": {},
   "outputs": [],
   "source": [
    "with open(os.path.join(\"eric_data\", \"author2jsource.json\"), \"w\") as outfile:\n",
    "    json.dump(author2source, outfile)\n",
    "del author2source"
   ]
  },
  {
   "cell_type": "markdown",
   "id": "92dc7b8b",
   "metadata": {},
   "source": [
    "### Save the cleaned ETM / Word2Vec inputs for all of ERIC (1990-2019):"
   ]
  },
  {
   "cell_type": "code",
   "execution_count": 29,
   "id": "f7696ca4",
   "metadata": {},
   "outputs": [
    {
     "name": "stdout",
     "output_type": "stream",
     "text": [
      "4807373 sentences saved as inputs for embedded topic modeling.\n"
     ]
    }
   ],
   "source": [
    "etm_inputs = eDF[\"etm_input\"].tolist()\n",
    "del eDF\n",
    "\n",
    "eric_sents = []\n",
    "for doc in etm_inputs:\n",
    "    eric_sents.extend(\n",
    "        sent_tokenize(doc) # Gensim word2vec requires sentences\n",
    "    )\n",
    "del etm_inputs\n",
    "\n",
    "with open(os.path.join(\"eric_data\", \"eric_etm_inputs.txt\"), \"w\") as outfile:\n",
    "    for sent in eric_sents:\n",
    "        outfile.write(\n",
    "            \"%s\\n\" % (sent,)\n",
    "        )\n",
    "    \n",
    "print(\"%s sentences saved as inputs for embedded topic modeling.\" % (len(eric_sents),))"
   ]
  },
  {
   "cell_type": "code",
   "execution_count": 30,
   "id": "36c93b57",
   "metadata": {},
   "outputs": [],
   "source": [
    "del eric_sents"
   ]
  },
  {
   "cell_type": "markdown",
   "id": "4750eb69",
   "metadata": {},
   "source": [
    "## Token counts for ETM train datasets: <a id=\"toks\"></a>"
   ]
  },
  {
   "cell_type": "code",
   "execution_count": 31,
   "id": "0a100a4a",
   "metadata": {},
   "outputs": [
    {
     "name": "stdout",
     "output_type": "stream",
     "text": [
      "121670 tokens in Soc of Ed ETM inputs.\n"
     ]
    }
   ],
   "source": [
    "n_toks = 0\n",
    "with open(os.path.join(\"eric_data\", \"soced_etm_inputs.txt\"), \"r\") as infile:\n",
    "    sents = [line for line in infile.readlines()]\n",
    "\n",
    "for sent in sents:\n",
    "    n_toks += len([tok for tok in word_tokenize(sent) if tok not in punctuation])\n",
    "\n",
    "print(\"%s tokens in Soc of Ed ETM inputs.\" % (n_toks,))\n",
    "del n_toks, sents"
   ]
  },
  {
   "cell_type": "code",
   "execution_count": 32,
   "id": "e2a43da4",
   "metadata": {},
   "outputs": [
    {
     "name": "stderr",
     "output_type": "stream",
     "text": [
      "100%|██████████████████████████████| 4809053/4809053 [05:30<00:00, 14554.15it/s]"
     ]
    },
    {
     "name": "stdout",
     "output_type": "stream",
     "text": [
      "103929107 tokens in ERIC ETM inputs.\n"
     ]
    },
    {
     "name": "stderr",
     "output_type": "stream",
     "text": [
      "\n"
     ]
    }
   ],
   "source": [
    "n_toks = 0\n",
    "with open(os.path.join(\"eric_data\", \"eric_etm_inputs.txt\"), \"r\") as infile:\n",
    "    sents = [line for line in infile.readlines()]\n",
    "\n",
    "for sent in tqdm(sents):\n",
    "    n_toks += len([tok for tok in word_tokenize(sent) if tok not in punctuation])\n",
    "\n",
    "print(\"%s tokens in ERIC ETM inputs.\" % (n_toks,))"
   ]
  }
 ],
 "metadata": {
  "kernelspec": {
   "display_name": "Py10 Temp",
   "language": "python",
   "name": "tmp"
  },
  "language_info": {
   "codemirror_mode": {
    "name": "ipython",
    "version": 3
   },
   "file_extension": ".py",
   "mimetype": "text/x-python",
   "name": "python",
   "nbconvert_exporter": "python",
   "pygments_lexer": "ipython3",
   "version": "3.10.5"
  }
 },
 "nbformat": 4,
 "nbformat_minor": 5
}
